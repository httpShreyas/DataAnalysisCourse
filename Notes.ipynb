{
 "cells": [
  {
   "cell_type": "markdown",
   "id": "026f1eb0",
   "metadata": {},
   "source": [
    "## Dealing with missing values in the dataset\n",
    "\n",
    "Drop the variable or drop the data entry \n",
    "### Replace the missing values \n",
    "Replace it with the average values, frequency or based on other functions\n",
    "\n",
    "### Dropping missing values in pandas\n",
    "use dataframes.dropna()  \n",
    "df.dropna(subset = [\"price\"], axis = 0, inplace = true)\n",
    "#### Notes: \n",
    "Axis = 0 drops the entire row, \n",
    "Axis = 1 drops the entire column."
   ]
  },
  {
   "cell_type": "code",
   "execution_count": 2,
   "id": "f4beb8a5",
   "metadata": {},
   "outputs": [],
   "source": [
    "import pandas as pd\n",
    "import numpy as np\n",
    "df = pd.read_csv(r\"C:\\Shreyas(Courses)\\Data Analysis (IBM)\\Dataset Used\\cardata.csv\", header = None)\n",
    "headers = [ \"number\", \"symboling\",\"normalized-losses\",\"make\",\"fuel-type\",\"aspiration\", \"num-of-doors\",\"body-style\",\n",
    "         \"drive-wheels\",\"engine-location\",\"wheel-base\", \"length\",\"width\",\"height\",\"curb-weight\",\"engine-type\",\n",
    "         \"num-of-cylinders\", \"engine-size\",\"fuel-system\",\"bore\",\"stroke\",\"compression-ratio\",\"horsepower\",\n",
    "         \"peak-rpm\",\"city-mpg\",\"highway-mpg\",\"price\"]\n",
    "df.columns = headers\n",
    "df.replace(\"?\", np.nan , inplace = True )\n",
    "df.dropna(subset = [\"price\"], axis = 0 , inplace = True)\n",
    "\n",
    "\n"
   ]
  },
  {
   "cell_type": "code",
   "execution_count": null,
   "id": "115ff7c5",
   "metadata": {},
   "outputs": [],
   "source": []
  },
  {
   "cell_type": "markdown",
   "id": "013ce37d",
   "metadata": {},
   "source": []
  },
  {
   "cell_type": "markdown",
   "id": "dff9a534",
   "metadata": {},
   "source": [
    "## Replacing the missing values\n",
    "use dataframe. replace(missing value , new value )  \n",
    "Generally fillna is considered a better option  \n",
    "The fillna statement is given below"
   ]
  },
  {
   "cell_type": "code",
   "execution_count": 3,
   "id": "26537e2e",
   "metadata": {},
   "outputs": [],
   "source": [
    "mean = df[\"normalized-losses\"].mean\n",
    "df[\"normalized-losses\"].fillna(mean, inplace= True)\n"
   ]
  },
  {
   "cell_type": "markdown",
   "id": "b6d5b515",
   "metadata": {},
   "source": [
    "## Data formatting \n",
    "Ensures that the data is consistent and easily understandable  \n",
    "### Applying calculations \n",
    "\n",
    "For example, we need to convert city miles per gallon to liter/100km   \n",
    "code used :   \n",
    "df[\"city mpg\"] = 235/ df[\"city mpg\"]"
   ]
  },
  {
   "cell_type": "code",
   "execution_count": 4,
   "id": "77538ee4",
   "metadata": {},
   "outputs": [],
   "source": [
    "df[\"city-mpg\"] = 235/df[\"city-mpg\"]\n"
   ]
  },
  {
   "cell_type": "markdown",
   "id": "746df5d9",
   "metadata": {},
   "source": [
    "### ⚠️ Important note\n",
    "When performing calculations on a DataFrame column, avoid overwriting the same column \n",
    "in the same operation without cleaning the data first. This can sometimes cause \n",
    "unexpected behavior or recursion errors in pandas. \n",
    "\n",
    "Best practice:\n",
    "- Convert raw data to numeric before calculations.\n",
    "- Write results to a new column (e.g., `df[\"city-L/100km\"]`) instead of replacing \n",
    "  the original column directly.\n"
   ]
  },
  {
   "cell_type": "markdown",
   "id": "036ee792",
   "metadata": {},
   "source": [
    "## Incorrect datatypes\n",
    "Sometimes the wrong datatypes are assigned to a feature  \n",
    "## Converting\n",
    "\n",
    "df[\"price\"].astype(\"dataype\")  \n",
    "\n",
    "This converts the object type variable into int\n"
   ]
  },
  {
   "cell_type": "code",
   "execution_count": 5,
   "id": "e36e2079",
   "metadata": {},
   "outputs": [],
   "source": [
    "df[\"price\"] = df[\"price\"].astype(\"int\")"
   ]
  },
  {
   "cell_type": "markdown",
   "id": "ebc90c1c",
   "metadata": {},
   "source": [
    "## Data normalization\n",
    "Uniform the features value with different ranges.  \n",
    "converting it into normal ranges before performing any calculations, makes the calculations easy\n",
    "\n",
    "## Methods of normalization '\n",
    "### Simple feature scaling\n",
    "This divides all the values of the column by the maximum value\n",
    "### Min - max method \n",
    "x.old - x.min /x.max - x.min  \n",
    "### Z score or standard score \n",
    "x.old - average of all the entries /standard deviation\n"
   ]
  },
  {
   "cell_type": "code",
   "execution_count": 6,
   "id": "14929689",
   "metadata": {},
   "outputs": [],
   "source": [
    "#The Methods are applied below\n",
    "#Simple feature scaling\n",
    "df['length'] = df[\"length\"]/df['length'].max()\n",
    "\n",
    "#The min max method\n",
    "df[\"length\"] = (df[\"length\"]-df[\"length\"].min()) /(df[\"length\"].max() - df[\"length\"].min())\n",
    "\n",
    "#The zscore method\n",
    "df[\"length\"] = df[\"length\"] - df[\"length\"].mean()/df[\"length\"].std()"
   ]
  },
  {
   "cell_type": "markdown",
   "id": "6f667d46",
   "metadata": {},
   "source": [
    "### Binning the data\n",
    "Binning is grouping the data to improve accuracy of models  \n",
    "Binning the car dataset into high,low and medium priced cars \n",
    "\n",
    "Thus we need three bins and 4 dividers equal distance apart."
   ]
  },
  {
   "cell_type": "code",
   "execution_count": 7,
   "id": "c5028da9",
   "metadata": {},
   "outputs": [],
   "source": [
    "\n",
    "bins = np.linspace(min(df[\"price\"]), max(df[\"price\"]), 4)\n",
    "group_names = [\"Low\", \"Medium\", \"High\"]\n",
    "df[\"Price_Binned\"]= pd.cut(df[\"price\"], bins, labels= group_names, include_lowest=True)\n"
   ]
  },
  {
   "cell_type": "markdown",
   "id": "c9421945",
   "metadata": {},
   "source": [
    "### How to turn categorical values into quantitative values\n",
    "\n",
    "Solution: Add dummy variables for each unique catrgory  \n",
    "Assign 0 or 1 in each category. \n"
   ]
  },
  {
   "cell_type": "code",
   "execution_count": 8,
   "id": "8b901ef3",
   "metadata": {},
   "outputs": [
    {
     "name": "stdout",
     "output_type": "stream",
     "text": [
      "<class 'pandas.core.frame.DataFrame'>\n",
      "Index: 202 entries, 0 to 205\n",
      "Data columns (total 28 columns):\n",
      " #   Column             Non-Null Count  Dtype   \n",
      "---  ------             --------------  -----   \n",
      " 0   number             201 non-null    float64 \n",
      " 1   symboling          202 non-null    int64   \n",
      " 2   normalized-losses  202 non-null    object  \n",
      " 3   make               202 non-null    object  \n",
      " 4   fuel-type          202 non-null    object  \n",
      " 5   aspiration         202 non-null    object  \n",
      " 6   num-of-doors       200 non-null    object  \n",
      " 7   body-style         202 non-null    object  \n",
      " 8   drive-wheels       202 non-null    object  \n",
      " 9   engine-location    202 non-null    object  \n",
      " 10  wheel-base         202 non-null    float64 \n",
      " 11  length             202 non-null    float64 \n",
      " 12  width              202 non-null    float64 \n",
      " 13  height             202 non-null    float64 \n",
      " 14  curb-weight        202 non-null    int64   \n",
      " 15  engine-type        202 non-null    object  \n",
      " 16  num-of-cylinders   202 non-null    object  \n",
      " 17  engine-size        202 non-null    int64   \n",
      " 18  fuel-system        202 non-null    object  \n",
      " 19  bore               198 non-null    object  \n",
      " 20  stroke             198 non-null    object  \n",
      " 21  compression-ratio  202 non-null    float64 \n",
      " 22  horsepower         200 non-null    object  \n",
      " 23  peak-rpm           200 non-null    object  \n",
      " 24  city-mpg           202 non-null    float64 \n",
      " 25  highway-mpg        202 non-null    int64   \n",
      " 26  price              202 non-null    int64   \n",
      " 27  Price_Binned       202 non-null    category\n",
      "dtypes: category(1), float64(7), int64(5), object(15)\n",
      "memory usage: 44.5+ KB\n"
     ]
    }
   ],
   "source": [
    "pd.get_dummies(df[\"fuel-type\"])\n",
    "df.info()"
   ]
  },
  {
   "cell_type": "code",
   "execution_count": 9,
   "id": "98f4270c",
   "metadata": {},
   "outputs": [
    {
     "ename": "TypeError",
     "evalue": "_LocationIndexer.__call__() takes from 1 to 2 positional arguments but 3 were given",
     "output_type": "error",
     "traceback": [
      "\u001b[31m---------------------------------------------------------------------------\u001b[39m",
      "\u001b[31mTypeError\u001b[39m                                 Traceback (most recent call last)",
      "\u001b[36mCell\u001b[39m\u001b[36m \u001b[39m\u001b[32mIn[9]\u001b[39m\u001b[32m, line 1\u001b[39m\n\u001b[32m----> \u001b[39m\u001b[32m1\u001b[39m \u001b[43mdf\u001b[49m\u001b[43m.\u001b[49m\u001b[43miloc\u001b[49m\u001b[43m(\u001b[49m\u001b[32;43m0\u001b[39;49m\u001b[43m,\u001b[49m\u001b[32;43m3\u001b[39;49m\u001b[43m)\u001b[49m\n",
      "\u001b[31mTypeError\u001b[39m: _LocationIndexer.__call__() takes from 1 to 2 positional arguments but 3 were given"
     ]
    }
   ],
   "source": [
    "df.iloc(0,3)"
   ]
  }
 ],
 "metadata": {
  "kernelspec": {
   "display_name": "Python 3",
   "language": "python",
   "name": "python3"
  },
  "language_info": {
   "codemirror_mode": {
    "name": "ipython",
    "version": 3
   },
   "file_extension": ".py",
   "mimetype": "text/x-python",
   "name": "python",
   "nbconvert_exporter": "python",
   "pygments_lexer": "ipython3",
   "version": "3.13.7"
  }
 },
 "nbformat": 4,
 "nbformat_minor": 5
}

{
 "cells": [
  {
   "cell_type": "markdown",
   "id": "026f1eb0",
   "metadata": {},
   "source": [
    "## Dealing with missing values in the dataset\n",
    "\n",
    "Drop the variable or drop the data entry \n",
    "### Replace the missing values \n",
    "Replace it with the average values, frequency or based on other functions\n",
    "\n",
    "### Dropping missing values in pandas\n",
    "use dataframes.dropna()  \n",
    "df.dropna(subset = [\"price\"], axis = 0, inplace = true)\n",
    "#### Notes: \n",
    "Axis = 0 drops the entire row, \n",
    "Axis = 1 drops the entire column."
   ]
  },
  {
   "cell_type": "code",
   "execution_count": null,
   "id": "f4beb8a5",
   "metadata": {},
   "outputs": [],
   "source": [
    "import pandas as pd\n",
    "import numpy as np\n",
    "df = pd.read_csv(r\"C:\\Shreyas(Courses)\\Data Analysis (IBM)\\Dataset Used\\cardata.csv\", header = None)\n",
    "headers = [ \"number\", \"symboling\",\"normalized-losses\",\"make\",\"fuel-type\",\"aspiration\", \"num-of-doors\",\"body-style\",\n",
    "         \"drive-wheels\",\"engine-location\",\"wheel-base\", \"length\",\"width\",\"height\",\"curb-weight\",\"engine-type\",\n",
    "         \"num-of-cylinders\", \"engine-size\",\"fuel-system\",\"bore\",\"stroke\",\"compression-ratio\",\"horsepower\",\n",
    "         \"peak-rpm\",\"city-mpg\",\"highway-mpg\",\"price\"]\n",
    "df.columns = headers\n",
    "df.replace(\"?\", np.nan , inplace = True )\n",
    "df.dropna(subset = [\"price\"], axis = 0 , inplace = True)\n",
    "\n",
    "\n"
   ]
  },
  {
   "cell_type": "code",
   "execution_count": null,
   "id": "115ff7c5",
   "metadata": {},
   "outputs": [],
   "source": []
  },
  {
   "cell_type": "markdown",
   "id": "013ce37d",
   "metadata": {},
   "source": []
  },
  {
   "cell_type": "markdown",
   "id": "dff9a534",
   "metadata": {},
   "source": [
    "## Replacing the missing values\n",
    "use dataframe. replace(missing value , new value )  \n",
    "Generally fillna is considered a better option  \n",
    "The fillna statement is given below"
   ]
  },
  {
   "cell_type": "code",
   "execution_count": null,
   "id": "26537e2e",
   "metadata": {},
   "outputs": [],
   "source": [
    "mean = df[\"normalized-losses\"].mean\n",
    "df[\"normalized-losses\"].fillna(mean, inplace= True)\n"
   ]
  },
  {
   "cell_type": "markdown",
   "id": "b6d5b515",
   "metadata": {},
   "source": [
    "## Data formatting \n",
    "Ensures that the data is consistent and easily understandable  \n",
    "### Applying calculations \n",
    "\n",
    "For example, we need to convert city miles per gallon to liter/100km   \n",
    "code used :   \n",
    "df[\"city mpg\"] = 235/ df[\"city mpg\"]"
   ]
  },
  {
   "cell_type": "code",
   "execution_count": null,
   "id": "77538ee4",
   "metadata": {},
   "outputs": [],
   "source": [
    "df[\"city-mpg\"] = 235/df[\"city-mpg\"]\n"
   ]
  },
  {
   "cell_type": "markdown",
   "id": "746df5d9",
   "metadata": {},
   "source": [
    "### ⚠️ Important note\n",
    "When performing calculations on a DataFrame column, avoid overwriting the same column \n",
    "in the same operation without cleaning the data first. This can sometimes cause \n",
    "unexpected behavior or recursion errors in pandas. \n",
    "\n",
    "Best practice:\n",
    "- Convert raw data to numeric before calculations.\n",
    "- Write results to a new column (e.g., `df[\"city-L/100km\"]`) instead of replacing \n",
    "  the original column directly.\n"
   ]
  },
  {
   "cell_type": "markdown",
   "id": "036ee792",
   "metadata": {},
   "source": [
    "## Incorrect datatypes\n",
    "Sometimes the wrong datatypes are assigned to a feature  \n",
    "## Converting\n",
    "\n",
    "df[\"price\"].astype(\"dataype\")  \n",
    "\n",
    "This converts the object type variable into int\n"
   ]
  },
  {
   "cell_type": "code",
   "execution_count": null,
   "id": "e36e2079",
   "metadata": {},
   "outputs": [],
   "source": [
    "df[\"price\"] = df[\"price\"].astype(\"int\")"
   ]
  },
  {
   "cell_type": "markdown",
   "id": "ebc90c1c",
   "metadata": {},
   "source": [
    "## Data normalization\n",
    "Uniform the features value with different ranges.  \n",
    "converting it into normal ranges before performing any calculations, makes the calculations easy\n",
    "\n",
    "## Methods of normalization '\n",
    "### Simple feature scaling\n",
    "This divides all the values of the column by the maximum value\n",
    "### Min - max method \n",
    "x.old - x.min /x.max - x.min  \n",
    "### Z score or standard score \n",
    "x.old - average of all the entries /standard deviation\n"
   ]
  },
  {
   "cell_type": "code",
   "execution_count": null,
   "id": "14929689",
   "metadata": {},
   "outputs": [],
   "source": [
    "#The Methods are applied below\n",
    "#Simple feature scaling\n",
    "df['length'] = df[\"length\"]/df['length'].max()\n",
    "\n",
    "#The min max method\n",
    "df[\"length\"] = (df[\"length\"]-df[\"length\"].min()) /(df[\"length\"].max() - df[\"length\"].min())\n",
    "\n",
    "#The zscore method\n",
    "df[\"length\"] = df[\"length\"] - df[\"length\"].mean()/df[\"length\"].std()"
   ]
  },
  {
   "cell_type": "markdown",
   "id": "6f667d46",
   "metadata": {},
   "source": [
    "### Binning the data\n",
    "Binning is grouping the data to improve accuracy of models  \n",
    "Binning the car dataset into high,low and medium priced cars \n",
    "\n",
    "Thus we need three bins and 4 dividers equal distance apart."
   ]
  },
  {
   "cell_type": "code",
   "execution_count": null,
   "id": "c5028da9",
   "metadata": {},
   "outputs": [],
   "source": [
    "\n",
    "bins = np.linspace(min(df[\"price\"]), max(df[\"price\"]), 4)\n",
    "group_names = [\"Low\", \"Medium\", \"High\"]\n",
    "df[\"Price_Binned\"]= pd.cut(df[\"price\"], bins, labels= group_names, include_lowest=True)\n"
   ]
  },
  {
   "cell_type": "markdown",
   "id": "c9421945",
   "metadata": {},
   "source": [
    "### How to turn categorical values into quantitative values\n",
    "\n",
    "Solution: Add dummy variables for each unique catrgory  \n",
    "Assign 0 or 1 in each category. \n"
   ]
  },
  {
   "cell_type": "code",
   "execution_count": null,
   "id": "8b901ef3",
   "metadata": {},
   "outputs": [],
   "source": [
    "pd.get_dummies(df[\"fuel-type\"])\n",
    "df.info()"
   ]
  },
  {
   "cell_type": "code",
   "execution_count": null,
   "id": "679a97cf",
   "metadata": {},
   "outputs": [],
   "source": [
    "df.iloc[3,5]"
   ]
  }
 ],
 "metadata": {
  "kernelspec": {
   "display_name": "Python 3",
   "language": "python",
   "name": "python3"
  },
  "language_info": {
   "codemirror_mode": {
    "name": "ipython",
    "version": 3
   },
   "file_extension": ".py",
   "mimetype": "text/x-python",
   "name": "python",
   "nbconvert_exporter": "python",
   "pygments_lexer": "ipython3",
   "version": "3.13.7"
  }
 },
 "nbformat": 4,
 "nbformat_minor": 5
}
